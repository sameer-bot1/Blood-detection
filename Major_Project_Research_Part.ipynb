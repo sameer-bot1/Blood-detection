{
 "cells": [
  {
   "cell_type": "code",
   "execution_count": 1,
   "id": "ffaa6cd8",
   "metadata": {},
   "outputs": [
    {
     "name": "stdout",
     "output_type": "stream",
     "text": [
      "   WBC   RBC   HGB  PLT  NEUT  LYMPH  MONO   EOS  BASO  Disease\n",
      "0  3.7  4.90  15.6  275  1.96   1.32  0.17  0.25  0.03        3\n",
      "1  7.0  5.12  13.5  386  3.33   3.05  0.53  0.09  0.06       13\n",
      "2  5.0  4.67  13.3  211  2.00   2.09  0.26  0.61  0.03       11\n",
      "3  6.9  4.80  15.0  224  3.77   1.75  0.58  0.70  0.05       11\n",
      "4  4.2  5.31  16.0  224  2.18   1.49  0.20  0.29  0.03        3\n",
      "5  8.9  5.36  15.0   99  2.52   2.69  0.32  0.33  0.04        4\n",
      "6  5.4  4.64  12.9  333  1.92   2.38  0.29  0.79  0.04       11\n",
      "7  4.5  4.76  13.5  186  1.41   1.93  0.30  0.40  0.02        6\n",
      "8  6.0  5.02  11.6  224  2.86   1.97  0.68  0.44  0.04       13\n",
      "9  5.6  5.46  13.9  203  1.97   2.10  0.27  1.20  0.06       11\n",
      "\n",
      " predict :  13\n",
      "\n",
      " Acc of LR :  0.5666666666666667\n",
      "\n",
      "\n",
      "              precision    recall  f1-score   support\n",
      "\n",
      "           0       0.33      0.50      0.40         2\n",
      "           1       0.50      0.29      0.36        14\n",
      "           2       1.00      1.00      1.00         3\n",
      "           3       0.46      0.86      0.60         7\n",
      "           4       1.00      1.00      1.00         2\n",
      "           5       0.75      0.75      0.75         4\n",
      "           6       0.00      0.00      0.00         3\n",
      "           7       1.00      0.25      0.40         4\n",
      "           8       0.00      0.00      0.00         1\n",
      "           9       1.00      0.50      0.67         2\n",
      "          10       0.00      0.00      0.00         2\n",
      "          11       1.00      0.09      0.17        11\n",
      "          12       0.00      0.00      0.00         1\n",
      "          13       0.54      0.85      0.66        34\n",
      "\n",
      "    accuracy                           0.57        90\n",
      "   macro avg       0.54      0.43      0.43        90\n",
      "weighted avg       0.60      0.57      0.50        90\n",
      "\n"
     ]
    },
    {
     "name": "stderr",
     "output_type": "stream",
     "text": [
      "C:\\Users\\samee\\AppData\\Local\\Programs\\Python\\Python310\\lib\\site-packages\\sklearn\\linear_model\\_logistic.py:444: ConvergenceWarning: lbfgs failed to converge (status=1):\n",
      "STOP: TOTAL NO. of ITERATIONS REACHED LIMIT.\n",
      "\n",
      "Increase the number of iterations (max_iter) or scale the data as shown in:\n",
      "    https://scikit-learn.org/stable/modules/preprocessing.html\n",
      "Please also refer to the documentation for alternative solver options:\n",
      "    https://scikit-learn.org/stable/modules/linear_model.html#logistic-regression\n",
      "  n_iter_i = _check_optimize_result(\n",
      "C:\\Users\\samee\\AppData\\Local\\Programs\\Python\\Python310\\lib\\site-packages\\sklearn\\metrics\\_classification.py:1334: UndefinedMetricWarning: Precision and F-score are ill-defined and being set to 0.0 in labels with no predicted samples. Use `zero_division` parameter to control this behavior.\n",
      "  _warn_prf(average, modifier, msg_start, len(result))\n",
      "C:\\Users\\samee\\AppData\\Local\\Programs\\Python\\Python310\\lib\\site-packages\\sklearn\\metrics\\_classification.py:1334: UndefinedMetricWarning: Precision and F-score are ill-defined and being set to 0.0 in labels with no predicted samples. Use `zero_division` parameter to control this behavior.\n",
      "  _warn_prf(average, modifier, msg_start, len(result))\n",
      "C:\\Users\\samee\\AppData\\Local\\Programs\\Python\\Python310\\lib\\site-packages\\sklearn\\metrics\\_classification.py:1334: UndefinedMetricWarning: Precision and F-score are ill-defined and being set to 0.0 in labels with no predicted samples. Use `zero_division` parameter to control this behavior.\n",
      "  _warn_prf(average, modifier, msg_start, len(result))\n"
     ]
    }
   ],
   "source": [
    "import pandas as pd\n",
    "import numpy as np\n",
    "from sklearn.linear_model import LogisticRegression\n",
    "from sklearn.model_selection import train_test_split\n",
    "data= pd.read_csv(\"Training.csv\")\n",
    "d=data.head(10)\n",
    "print(d)\n",
    "x=data.drop(columns=['Disease'],axis=1)\n",
    "y=data['Disease']\n",
    "x_train,x_test,y_train,y_test=train_test_split(x,y,test_size=0.3,random_state=40)\n",
    "#print((x_train).shape)\n",
    "clf1 = LogisticRegression()\n",
    "clf1.fit(x_train, y_train)\n",
    "x_test.shape\n",
    "t=x[258:259]\n",
    "p=clf1.predict(t)[0]\n",
    "print(\"\\n predict : \",p)\n",
    "Pred_clf1=clf1.predict(x_test)\n",
    "Acc1=clf1.score(x_test, y_test)\n",
    "print(\"\\n Acc of LR : \",Acc1)\n",
    "print(\"\\n\")\n",
    "from sklearn import metrics\n",
    "print(metrics.classification_report(y_test,clf1.predict(x_test)))"
   ]
  },
  {
   "cell_type": "code",
   "execution_count": 2,
   "id": "f4a719f2",
   "metadata": {},
   "outputs": [
    {
     "data": {
      "text/plain": [
       "WBC        float64\n",
       "RBC        float64\n",
       "HGB        float64\n",
       "PLT          int64\n",
       "NEUT       float64\n",
       "LYMPH      float64\n",
       "MONO       float64\n",
       "EOS        float64\n",
       "BASO       float64\n",
       "Disease      int64\n",
       "dtype: object"
      ]
     },
     "execution_count": 2,
     "metadata": {},
     "output_type": "execute_result"
    }
   ],
   "source": [
    "data.dtypes"
   ]
  },
  {
   "cell_type": "code",
   "execution_count": null,
   "id": "429d937d",
   "metadata": {},
   "outputs": [],
   "source": []
  },
  {
   "cell_type": "code",
   "execution_count": null,
   "id": "561a921d",
   "metadata": {},
   "outputs": [],
   "source": []
  },
  {
   "cell_type": "code",
   "execution_count": null,
   "id": "b31fa2e7",
   "metadata": {},
   "outputs": [],
   "source": []
  },
  {
   "cell_type": "code",
   "execution_count": null,
   "id": "24060878",
   "metadata": {},
   "outputs": [],
   "source": []
  },
  {
   "cell_type": "code",
   "execution_count": null,
   "id": "6be531dd",
   "metadata": {},
   "outputs": [],
   "source": [
    "\n"
   ]
  },
  {
   "cell_type": "code",
   "execution_count": null,
   "id": "e594991c",
   "metadata": {},
   "outputs": [],
   "source": []
  },
  {
   "cell_type": "code",
   "execution_count": null,
   "id": "1c30c6af",
   "metadata": {
    "scrolled": false
   },
   "outputs": [],
   "source": []
  },
  {
   "cell_type": "code",
   "execution_count": 3,
   "id": "b739488f",
   "metadata": {},
   "outputs": [
    {
     "name": "stdout",
     "output_type": "stream",
     "text": [
      "\n",
      " predict :  13\n",
      "\n",
      " Acc of svm :  0.43333333333333335\n",
      "\n",
      "\n",
      "              precision    recall  f1-score   support\n",
      "\n",
      "           0       0.00      0.00      0.00         2\n",
      "           1       0.00      0.00      0.00        14\n",
      "           2       0.00      0.00      0.00         3\n",
      "           3       0.00      0.00      0.00         7\n",
      "           4       1.00      1.00      1.00         2\n",
      "           5       1.00      0.75      0.86         4\n",
      "           6       0.00      0.00      0.00         3\n",
      "           7       0.00      0.00      0.00         4\n",
      "           8       0.00      0.00      0.00         1\n",
      "           9       0.00      0.00      0.00         2\n",
      "          10       0.00      0.00      0.00         2\n",
      "          11       0.00      0.00      0.00        11\n",
      "          12       0.00      0.00      0.00         1\n",
      "          13       0.40      1.00      0.57        34\n",
      "\n",
      "    accuracy                           0.43        90\n",
      "   macro avg       0.17      0.20      0.17        90\n",
      "weighted avg       0.22      0.43      0.28        90\n",
      "\n"
     ]
    },
    {
     "name": "stderr",
     "output_type": "stream",
     "text": [
      "C:\\Users\\samee\\AppData\\Local\\Programs\\Python\\Python310\\lib\\site-packages\\sklearn\\metrics\\_classification.py:1334: UndefinedMetricWarning: Precision and F-score are ill-defined and being set to 0.0 in labels with no predicted samples. Use `zero_division` parameter to control this behavior.\n",
      "  _warn_prf(average, modifier, msg_start, len(result))\n",
      "C:\\Users\\samee\\AppData\\Local\\Programs\\Python\\Python310\\lib\\site-packages\\sklearn\\metrics\\_classification.py:1334: UndefinedMetricWarning: Precision and F-score are ill-defined and being set to 0.0 in labels with no predicted samples. Use `zero_division` parameter to control this behavior.\n",
      "  _warn_prf(average, modifier, msg_start, len(result))\n",
      "C:\\Users\\samee\\AppData\\Local\\Programs\\Python\\Python310\\lib\\site-packages\\sklearn\\metrics\\_classification.py:1334: UndefinedMetricWarning: Precision and F-score are ill-defined and being set to 0.0 in labels with no predicted samples. Use `zero_division` parameter to control this behavior.\n",
      "  _warn_prf(average, modifier, msg_start, len(result))\n"
     ]
    }
   ],
   "source": [
    "from sklearn import svm\n",
    "clf2 = svm.SVC()\n",
    "clf2.fit(x_train, y_train)\n",
    "t=x[258:259]\n",
    "p=clf2.predict(t)[0]\n",
    "print(\"\\n predict : \",p)\n",
    "Acc2=clf2.score(x_test,y_test)\n",
    "print(\"\\n Acc of svm : \",Acc2)\n",
    "print(\"\\n\")\n",
    "print(metrics.classification_report(y_test,clf2.predict(x_test)))"
   ]
  },
  {
   "cell_type": "code",
   "execution_count": 4,
   "id": "e1a078c8",
   "metadata": {},
   "outputs": [
    {
     "data": {
      "text/plain": [
       "(90, 9)"
      ]
     },
     "execution_count": 4,
     "metadata": {},
     "output_type": "execute_result"
    }
   ],
   "source": [
    "x_test.shape"
   ]
  },
  {
   "cell_type": "code",
   "execution_count": 5,
   "id": "57818c8c",
   "metadata": {},
   "outputs": [
    {
     "data": {
      "text/html": [
       "<div>\n",
       "<style scoped>\n",
       "    .dataframe tbody tr th:only-of-type {\n",
       "        vertical-align: middle;\n",
       "    }\n",
       "\n",
       "    .dataframe tbody tr th {\n",
       "        vertical-align: top;\n",
       "    }\n",
       "\n",
       "    .dataframe thead th {\n",
       "        text-align: right;\n",
       "    }\n",
       "</style>\n",
       "<table border=\"1\" class=\"dataframe\">\n",
       "  <thead>\n",
       "    <tr style=\"text-align: right;\">\n",
       "      <th></th>\n",
       "      <th>WBC</th>\n",
       "      <th>RBC</th>\n",
       "      <th>HGB</th>\n",
       "      <th>PLT</th>\n",
       "      <th>NEUT</th>\n",
       "      <th>LYMPH</th>\n",
       "      <th>MONO</th>\n",
       "      <th>EOS</th>\n",
       "      <th>BASO</th>\n",
       "    </tr>\n",
       "  </thead>\n",
       "  <tbody>\n",
       "    <tr>\n",
       "      <th>258</th>\n",
       "      <td>9.9</td>\n",
       "      <td>5.03</td>\n",
       "      <td>14.5</td>\n",
       "      <td>282</td>\n",
       "      <td>8.3</td>\n",
       "      <td>3.86</td>\n",
       "      <td>0.18</td>\n",
       "      <td>0.35</td>\n",
       "      <td>0.08</td>\n",
       "    </tr>\n",
       "  </tbody>\n",
       "</table>\n",
       "</div>"
      ],
      "text/plain": [
       "     WBC   RBC   HGB  PLT  NEUT  LYMPH  MONO   EOS  BASO\n",
       "258  9.9  5.03  14.5  282   8.3   3.86  0.18  0.35  0.08"
      ]
     },
     "execution_count": 5,
     "metadata": {},
     "output_type": "execute_result"
    }
   ],
   "source": [
    "t=x[258:259]\n",
    "t"
   ]
  },
  {
   "cell_type": "code",
   "execution_count": 6,
   "id": "56d2510c",
   "metadata": {},
   "outputs": [
    {
     "data": {
      "text/plain": [
       "13"
      ]
     },
     "execution_count": 6,
     "metadata": {},
     "output_type": "execute_result"
    }
   ],
   "source": [
    "clf2.predict(t)[0]"
   ]
  },
  {
   "cell_type": "code",
   "execution_count": 7,
   "id": "45c749bf",
   "metadata": {},
   "outputs": [
    {
     "name": "stdout",
     "output_type": "stream",
     "text": [
      "0.43333333333333335\n"
     ]
    }
   ],
   "source": [
    "Acc2=clf2.score(x_test,y_test)\n",
    "print(Acc2)"
   ]
  },
  {
   "cell_type": "code",
   "execution_count": 8,
   "id": "97e4c767",
   "metadata": {},
   "outputs": [
    {
     "name": "stdout",
     "output_type": "stream",
     "text": [
      "              precision    recall  f1-score   support\n",
      "\n",
      "           0       0.00      0.00      0.00         2\n",
      "           1       0.00      0.00      0.00        14\n",
      "           2       0.00      0.00      0.00         3\n",
      "           3       0.00      0.00      0.00         7\n",
      "           4       1.00      1.00      1.00         2\n",
      "           5       1.00      0.75      0.86         4\n",
      "           6       0.00      0.00      0.00         3\n",
      "           7       0.00      0.00      0.00         4\n",
      "           8       0.00      0.00      0.00         1\n",
      "           9       0.00      0.00      0.00         2\n",
      "          10       0.00      0.00      0.00         2\n",
      "          11       0.00      0.00      0.00        11\n",
      "          12       0.00      0.00      0.00         1\n",
      "          13       0.40      1.00      0.57        34\n",
      "\n",
      "    accuracy                           0.43        90\n",
      "   macro avg       0.17      0.20      0.17        90\n",
      "weighted avg       0.22      0.43      0.28        90\n",
      "\n"
     ]
    },
    {
     "name": "stderr",
     "output_type": "stream",
     "text": [
      "C:\\Users\\samee\\AppData\\Local\\Programs\\Python\\Python310\\lib\\site-packages\\sklearn\\metrics\\_classification.py:1334: UndefinedMetricWarning: Precision and F-score are ill-defined and being set to 0.0 in labels with no predicted samples. Use `zero_division` parameter to control this behavior.\n",
      "  _warn_prf(average, modifier, msg_start, len(result))\n",
      "C:\\Users\\samee\\AppData\\Local\\Programs\\Python\\Python310\\lib\\site-packages\\sklearn\\metrics\\_classification.py:1334: UndefinedMetricWarning: Precision and F-score are ill-defined and being set to 0.0 in labels with no predicted samples. Use `zero_division` parameter to control this behavior.\n",
      "  _warn_prf(average, modifier, msg_start, len(result))\n",
      "C:\\Users\\samee\\AppData\\Local\\Programs\\Python\\Python310\\lib\\site-packages\\sklearn\\metrics\\_classification.py:1334: UndefinedMetricWarning: Precision and F-score are ill-defined and being set to 0.0 in labels with no predicted samples. Use `zero_division` parameter to control this behavior.\n",
      "  _warn_prf(average, modifier, msg_start, len(result))\n"
     ]
    }
   ],
   "source": [
    "print(metrics.classification_report(y_test,clf2.predict(x_test)))"
   ]
  },
  {
   "cell_type": "code",
   "execution_count": 9,
   "id": "06fc67fb",
   "metadata": {},
   "outputs": [
    {
     "name": "stdout",
     "output_type": "stream",
     "text": [
      "\n",
      " predict :  7\n",
      "\n",
      " Accu of Dtree :  0.8666666666666667\n",
      "\n",
      "\n",
      "              precision    recall  f1-score   support\n",
      "\n",
      "           0       1.00      1.00      1.00         2\n",
      "           1       0.93      1.00      0.97        14\n",
      "           2       1.00      0.33      0.50         3\n",
      "           3       0.78      1.00      0.88         7\n",
      "           4       1.00      1.00      1.00         2\n",
      "           5       1.00      1.00      1.00         4\n",
      "           6       0.67      0.67      0.67         3\n",
      "           7       0.00      0.00      0.00         4\n",
      "           8       1.00      1.00      1.00         1\n",
      "           9       1.00      1.00      1.00         2\n",
      "          10       0.25      0.50      0.33         2\n",
      "          11       0.92      1.00      0.96        11\n",
      "          12       0.00      0.00      0.00         1\n",
      "          13       0.89      0.91      0.90        34\n",
      "\n",
      "    accuracy                           0.87        90\n",
      "   macro avg       0.75      0.74      0.73        90\n",
      "weighted avg       0.84      0.87      0.84        90\n",
      "\n"
     ]
    },
    {
     "name": "stderr",
     "output_type": "stream",
     "text": [
      "C:\\Users\\samee\\AppData\\Local\\Programs\\Python\\Python310\\lib\\site-packages\\sklearn\\metrics\\_classification.py:1334: UndefinedMetricWarning: Precision and F-score are ill-defined and being set to 0.0 in labels with no predicted samples. Use `zero_division` parameter to control this behavior.\n",
      "  _warn_prf(average, modifier, msg_start, len(result))\n",
      "C:\\Users\\samee\\AppData\\Local\\Programs\\Python\\Python310\\lib\\site-packages\\sklearn\\metrics\\_classification.py:1334: UndefinedMetricWarning: Precision and F-score are ill-defined and being set to 0.0 in labels with no predicted samples. Use `zero_division` parameter to control this behavior.\n",
      "  _warn_prf(average, modifier, msg_start, len(result))\n",
      "C:\\Users\\samee\\AppData\\Local\\Programs\\Python\\Python310\\lib\\site-packages\\sklearn\\metrics\\_classification.py:1334: UndefinedMetricWarning: Precision and F-score are ill-defined and being set to 0.0 in labels with no predicted samples. Use `zero_division` parameter to control this behavior.\n",
      "  _warn_prf(average, modifier, msg_start, len(result))\n"
     ]
    }
   ],
   "source": [
    "from sklearn import tree\n",
    "clf3 = tree.DecisionTreeClassifier()\n",
    "clf3.fit(x_train, y_train)\n",
    "t=x[258:259]\n",
    "p=clf3.predict(t)[0]\n",
    "print(\"\\n predict : \",p)\n",
    "Acc3=clf3.score(x_test, y_test)\n",
    "print(\"\\n Accu of Dtree : \",Acc3)\n",
    "print(\"\\n\")\n",
    "print(metrics.classification_report(y_test,clf3.predict(x_test)))"
   ]
  },
  {
   "cell_type": "code",
   "execution_count": 10,
   "id": "666f8fa5",
   "metadata": {},
   "outputs": [
    {
     "data": {
      "text/plain": [
       "(90, 9)"
      ]
     },
     "execution_count": 10,
     "metadata": {},
     "output_type": "execute_result"
    }
   ],
   "source": [
    "x_test.shape"
   ]
  },
  {
   "cell_type": "code",
   "execution_count": 11,
   "id": "f36bb8b7",
   "metadata": {},
   "outputs": [
    {
     "data": {
      "text/html": [
       "<div>\n",
       "<style scoped>\n",
       "    .dataframe tbody tr th:only-of-type {\n",
       "        vertical-align: middle;\n",
       "    }\n",
       "\n",
       "    .dataframe tbody tr th {\n",
       "        vertical-align: top;\n",
       "    }\n",
       "\n",
       "    .dataframe thead th {\n",
       "        text-align: right;\n",
       "    }\n",
       "</style>\n",
       "<table border=\"1\" class=\"dataframe\">\n",
       "  <thead>\n",
       "    <tr style=\"text-align: right;\">\n",
       "      <th></th>\n",
       "      <th>WBC</th>\n",
       "      <th>RBC</th>\n",
       "      <th>HGB</th>\n",
       "      <th>PLT</th>\n",
       "      <th>NEUT</th>\n",
       "      <th>LYMPH</th>\n",
       "      <th>MONO</th>\n",
       "      <th>EOS</th>\n",
       "      <th>BASO</th>\n",
       "    </tr>\n",
       "  </thead>\n",
       "  <tbody>\n",
       "    <tr>\n",
       "      <th>258</th>\n",
       "      <td>9.9</td>\n",
       "      <td>5.03</td>\n",
       "      <td>14.5</td>\n",
       "      <td>282</td>\n",
       "      <td>8.3</td>\n",
       "      <td>3.86</td>\n",
       "      <td>0.18</td>\n",
       "      <td>0.35</td>\n",
       "      <td>0.08</td>\n",
       "    </tr>\n",
       "  </tbody>\n",
       "</table>\n",
       "</div>"
      ],
      "text/plain": [
       "     WBC   RBC   HGB  PLT  NEUT  LYMPH  MONO   EOS  BASO\n",
       "258  9.9  5.03  14.5  282   8.3   3.86  0.18  0.35  0.08"
      ]
     },
     "execution_count": 11,
     "metadata": {},
     "output_type": "execute_result"
    }
   ],
   "source": [
    "t=x[258:259]\n",
    "t"
   ]
  },
  {
   "cell_type": "code",
   "execution_count": 12,
   "id": "368b4cc6",
   "metadata": {},
   "outputs": [
    {
     "data": {
      "text/plain": [
       "7"
      ]
     },
     "execution_count": 12,
     "metadata": {},
     "output_type": "execute_result"
    }
   ],
   "source": [
    "clf3.predict(t)[0]"
   ]
  },
  {
   "cell_type": "code",
   "execution_count": 13,
   "id": "581f0079",
   "metadata": {
    "scrolled": true
   },
   "outputs": [
    {
     "name": "stdout",
     "output_type": "stream",
     "text": [
      "0.8666666666666667\n"
     ]
    }
   ],
   "source": [
    "Acc3=clf3.score(x_test, y_test)\n",
    "print(Acc3)"
   ]
  },
  {
   "cell_type": "code",
   "execution_count": 14,
   "id": "b589622f",
   "metadata": {},
   "outputs": [
    {
     "name": "stdout",
     "output_type": "stream",
     "text": [
      "              precision    recall  f1-score   support\n",
      "\n",
      "           0       1.00      1.00      1.00         2\n",
      "           1       0.93      1.00      0.97        14\n",
      "           2       1.00      0.33      0.50         3\n",
      "           3       0.78      1.00      0.88         7\n",
      "           4       1.00      1.00      1.00         2\n",
      "           5       1.00      1.00      1.00         4\n",
      "           6       0.67      0.67      0.67         3\n",
      "           7       0.00      0.00      0.00         4\n",
      "           8       1.00      1.00      1.00         1\n",
      "           9       1.00      1.00      1.00         2\n",
      "          10       0.25      0.50      0.33         2\n",
      "          11       0.92      1.00      0.96        11\n",
      "          12       0.00      0.00      0.00         1\n",
      "          13       0.89      0.91      0.90        34\n",
      "\n",
      "    accuracy                           0.87        90\n",
      "   macro avg       0.75      0.74      0.73        90\n",
      "weighted avg       0.84      0.87      0.84        90\n",
      "\n"
     ]
    },
    {
     "name": "stderr",
     "output_type": "stream",
     "text": [
      "C:\\Users\\samee\\AppData\\Local\\Programs\\Python\\Python310\\lib\\site-packages\\sklearn\\metrics\\_classification.py:1334: UndefinedMetricWarning: Precision and F-score are ill-defined and being set to 0.0 in labels with no predicted samples. Use `zero_division` parameter to control this behavior.\n",
      "  _warn_prf(average, modifier, msg_start, len(result))\n",
      "C:\\Users\\samee\\AppData\\Local\\Programs\\Python\\Python310\\lib\\site-packages\\sklearn\\metrics\\_classification.py:1334: UndefinedMetricWarning: Precision and F-score are ill-defined and being set to 0.0 in labels with no predicted samples. Use `zero_division` parameter to control this behavior.\n",
      "  _warn_prf(average, modifier, msg_start, len(result))\n",
      "C:\\Users\\samee\\AppData\\Local\\Programs\\Python\\Python310\\lib\\site-packages\\sklearn\\metrics\\_classification.py:1334: UndefinedMetricWarning: Precision and F-score are ill-defined and being set to 0.0 in labels with no predicted samples. Use `zero_division` parameter to control this behavior.\n",
      "  _warn_prf(average, modifier, msg_start, len(result))\n"
     ]
    }
   ],
   "source": [
    "print(metrics.classification_report(y_test,clf3.predict(x_test)))"
   ]
  },
  {
   "cell_type": "code",
   "execution_count": 15,
   "id": "f3dc9388",
   "metadata": {},
   "outputs": [
    {
     "name": "stdout",
     "output_type": "stream",
     "text": [
      "\n",
      " predict :  7\n",
      "\n",
      " Acc of GNB :  0.6777777777777778\n",
      "\n",
      "\n",
      "              precision    recall  f1-score   support\n",
      "\n",
      "           0       1.00      1.00      1.00         2\n",
      "           1       0.82      0.64      0.72        14\n",
      "           2       0.75      1.00      0.86         3\n",
      "           3       0.39      1.00      0.56         7\n",
      "           4       1.00      0.50      0.67         2\n",
      "           5       1.00      0.50      0.67         4\n",
      "           6       0.33      0.67      0.44         3\n",
      "           7       1.00      0.75      0.86         4\n",
      "           8       0.00      0.00      0.00         1\n",
      "           9       1.00      0.50      0.67         2\n",
      "          10       1.00      0.50      0.67         2\n",
      "          11       0.71      0.45      0.56        11\n",
      "          12       0.50      1.00      0.67         1\n",
      "          13       0.75      0.71      0.73        34\n",
      "\n",
      "    accuracy                           0.68        90\n",
      "   macro avg       0.73      0.66      0.65        90\n",
      "weighted avg       0.75      0.68      0.68        90\n",
      "\n"
     ]
    },
    {
     "name": "stderr",
     "output_type": "stream",
     "text": [
      "C:\\Users\\samee\\AppData\\Local\\Programs\\Python\\Python310\\lib\\site-packages\\sklearn\\metrics\\_classification.py:1334: UndefinedMetricWarning: Precision and F-score are ill-defined and being set to 0.0 in labels with no predicted samples. Use `zero_division` parameter to control this behavior.\n",
      "  _warn_prf(average, modifier, msg_start, len(result))\n",
      "C:\\Users\\samee\\AppData\\Local\\Programs\\Python\\Python310\\lib\\site-packages\\sklearn\\metrics\\_classification.py:1334: UndefinedMetricWarning: Precision and F-score are ill-defined and being set to 0.0 in labels with no predicted samples. Use `zero_division` parameter to control this behavior.\n",
      "  _warn_prf(average, modifier, msg_start, len(result))\n",
      "C:\\Users\\samee\\AppData\\Local\\Programs\\Python\\Python310\\lib\\site-packages\\sklearn\\metrics\\_classification.py:1334: UndefinedMetricWarning: Precision and F-score are ill-defined and being set to 0.0 in labels with no predicted samples. Use `zero_division` parameter to control this behavior.\n",
      "  _warn_prf(average, modifier, msg_start, len(result))\n"
     ]
    }
   ],
   "source": [
    "from sklearn.naive_bayes import GaussianNB\n",
    "clf4 = GaussianNB()\n",
    "clf4.fit(x_train, y_train)\n",
    "t=x[258:259]\n",
    "p=clf4.predict(t)[0]\n",
    "print(\"\\n predict : \",p )\n",
    "Acc4=clf4.score(x_test, y_test)\n",
    "print(\"\\n Acc of GNB : \",Acc4)\n",
    "print(\"\\n\")\n",
    "print(metrics.classification_report(y_test,clf4.predict(x_test)))"
   ]
  },
  {
   "cell_type": "code",
   "execution_count": 16,
   "id": "2e5a1217",
   "metadata": {},
   "outputs": [
    {
     "data": {
      "text/html": [
       "<div>\n",
       "<style scoped>\n",
       "    .dataframe tbody tr th:only-of-type {\n",
       "        vertical-align: middle;\n",
       "    }\n",
       "\n",
       "    .dataframe tbody tr th {\n",
       "        vertical-align: top;\n",
       "    }\n",
       "\n",
       "    .dataframe thead th {\n",
       "        text-align: right;\n",
       "    }\n",
       "</style>\n",
       "<table border=\"1\" class=\"dataframe\">\n",
       "  <thead>\n",
       "    <tr style=\"text-align: right;\">\n",
       "      <th></th>\n",
       "      <th>WBC</th>\n",
       "      <th>RBC</th>\n",
       "      <th>HGB</th>\n",
       "      <th>PLT</th>\n",
       "      <th>NEUT</th>\n",
       "      <th>LYMPH</th>\n",
       "      <th>MONO</th>\n",
       "      <th>EOS</th>\n",
       "      <th>BASO</th>\n",
       "    </tr>\n",
       "  </thead>\n",
       "  <tbody>\n",
       "    <tr>\n",
       "      <th>258</th>\n",
       "      <td>9.9</td>\n",
       "      <td>5.03</td>\n",
       "      <td>14.5</td>\n",
       "      <td>282</td>\n",
       "      <td>8.3</td>\n",
       "      <td>3.86</td>\n",
       "      <td>0.18</td>\n",
       "      <td>0.35</td>\n",
       "      <td>0.08</td>\n",
       "    </tr>\n",
       "  </tbody>\n",
       "</table>\n",
       "</div>"
      ],
      "text/plain": [
       "     WBC   RBC   HGB  PLT  NEUT  LYMPH  MONO   EOS  BASO\n",
       "258  9.9  5.03  14.5  282   8.3   3.86  0.18  0.35  0.08"
      ]
     },
     "execution_count": 16,
     "metadata": {},
     "output_type": "execute_result"
    }
   ],
   "source": [
    "t=x[258:259]\n",
    "t"
   ]
  },
  {
   "cell_type": "code",
   "execution_count": 17,
   "id": "13206007",
   "metadata": {},
   "outputs": [
    {
     "data": {
      "text/plain": [
       "7"
      ]
     },
     "execution_count": 17,
     "metadata": {},
     "output_type": "execute_result"
    }
   ],
   "source": [
    "clf4.predict(t)[0]"
   ]
  },
  {
   "cell_type": "code",
   "execution_count": 18,
   "id": "bdbdf43b",
   "metadata": {
    "scrolled": true
   },
   "outputs": [
    {
     "name": "stdout",
     "output_type": "stream",
     "text": [
      "0.6777777777777778\n"
     ]
    }
   ],
   "source": [
    "Acc4=clf4.score(x_test, y_test)\n",
    "print(Acc4)"
   ]
  },
  {
   "cell_type": "code",
   "execution_count": 19,
   "id": "e2f64c69",
   "metadata": {},
   "outputs": [
    {
     "name": "stdout",
     "output_type": "stream",
     "text": [
      "              precision    recall  f1-score   support\n",
      "\n",
      "           0       1.00      1.00      1.00         2\n",
      "           1       0.82      0.64      0.72        14\n",
      "           2       0.75      1.00      0.86         3\n",
      "           3       0.39      1.00      0.56         7\n",
      "           4       1.00      0.50      0.67         2\n",
      "           5       1.00      0.50      0.67         4\n",
      "           6       0.33      0.67      0.44         3\n",
      "           7       1.00      0.75      0.86         4\n",
      "           8       0.00      0.00      0.00         1\n",
      "           9       1.00      0.50      0.67         2\n",
      "          10       1.00      0.50      0.67         2\n",
      "          11       0.71      0.45      0.56        11\n",
      "          12       0.50      1.00      0.67         1\n",
      "          13       0.75      0.71      0.73        34\n",
      "\n",
      "    accuracy                           0.68        90\n",
      "   macro avg       0.73      0.66      0.65        90\n",
      "weighted avg       0.75      0.68      0.68        90\n",
      "\n"
     ]
    },
    {
     "name": "stderr",
     "output_type": "stream",
     "text": [
      "C:\\Users\\samee\\AppData\\Local\\Programs\\Python\\Python310\\lib\\site-packages\\sklearn\\metrics\\_classification.py:1334: UndefinedMetricWarning: Precision and F-score are ill-defined and being set to 0.0 in labels with no predicted samples. Use `zero_division` parameter to control this behavior.\n",
      "  _warn_prf(average, modifier, msg_start, len(result))\n",
      "C:\\Users\\samee\\AppData\\Local\\Programs\\Python\\Python310\\lib\\site-packages\\sklearn\\metrics\\_classification.py:1334: UndefinedMetricWarning: Precision and F-score are ill-defined and being set to 0.0 in labels with no predicted samples. Use `zero_division` parameter to control this behavior.\n",
      "  _warn_prf(average, modifier, msg_start, len(result))\n",
      "C:\\Users\\samee\\AppData\\Local\\Programs\\Python\\Python310\\lib\\site-packages\\sklearn\\metrics\\_classification.py:1334: UndefinedMetricWarning: Precision and F-score are ill-defined and being set to 0.0 in labels with no predicted samples. Use `zero_division` parameter to control this behavior.\n",
      "  _warn_prf(average, modifier, msg_start, len(result))\n"
     ]
    }
   ],
   "source": [
    "print(metrics.classification_report(y_test,clf4.predict(x_test)))"
   ]
  },
  {
   "cell_type": "code",
   "execution_count": 20,
   "id": "7a581ffa",
   "metadata": {},
   "outputs": [
    {
     "name": "stdout",
     "output_type": "stream",
     "text": [
      "\n",
      " predict :  7\n",
      "\n",
      " Acc of KNN :  0.43333333333333335\n",
      "\n",
      "\n",
      "              precision    recall  f1-score   support\n",
      "\n",
      "           0       0.00      0.00      0.00         2\n",
      "           1       0.25      0.29      0.27        14\n",
      "           2       1.00      0.67      0.80         3\n",
      "           3       0.22      0.57      0.32         7\n",
      "           4       1.00      1.00      1.00         2\n",
      "           5       1.00      1.00      1.00         4\n",
      "           6       0.00      0.00      0.00         3\n",
      "           7       0.00      0.00      0.00         4\n",
      "           8       0.00      0.00      0.00         1\n",
      "           9       0.00      0.00      0.00         2\n",
      "          10       0.00      0.00      0.00         2\n",
      "          11       0.00      0.00      0.00        11\n",
      "          12       0.00      0.00      0.00         1\n",
      "          13       0.52      0.68      0.59        34\n",
      "\n",
      "    accuracy                           0.43        90\n",
      "   macro avg       0.29      0.30      0.28        90\n",
      "weighted avg       0.35      0.43      0.38        90\n",
      "\n"
     ]
    },
    {
     "name": "stderr",
     "output_type": "stream",
     "text": [
      "C:\\Users\\samee\\AppData\\Local\\Programs\\Python\\Python310\\lib\\site-packages\\sklearn\\metrics\\_classification.py:1334: UndefinedMetricWarning: Precision and F-score are ill-defined and being set to 0.0 in labels with no predicted samples. Use `zero_division` parameter to control this behavior.\n",
      "  _warn_prf(average, modifier, msg_start, len(result))\n",
      "C:\\Users\\samee\\AppData\\Local\\Programs\\Python\\Python310\\lib\\site-packages\\sklearn\\metrics\\_classification.py:1334: UndefinedMetricWarning: Precision and F-score are ill-defined and being set to 0.0 in labels with no predicted samples. Use `zero_division` parameter to control this behavior.\n",
      "  _warn_prf(average, modifier, msg_start, len(result))\n",
      "C:\\Users\\samee\\AppData\\Local\\Programs\\Python\\Python310\\lib\\site-packages\\sklearn\\metrics\\_classification.py:1334: UndefinedMetricWarning: Precision and F-score are ill-defined and being set to 0.0 in labels with no predicted samples. Use `zero_division` parameter to control this behavior.\n",
      "  _warn_prf(average, modifier, msg_start, len(result))\n"
     ]
    }
   ],
   "source": [
    "from sklearn.neighbors import KNeighborsClassifier\n",
    "clf5 = KNeighborsClassifier(n_neighbors=3)\n",
    "clf5.fit(x_train, y_train)\n",
    "t=x[258:259]\n",
    "p=clf5.predict(t)[0]\n",
    "print(\"\\n predict : \",p)\n",
    "Acc5=clf5.score(x_test, y_test)\n",
    "print(\"\\n Acc of KNN : \",Acc5)\n",
    "print(\"\\n\")\n",
    "print(metrics.classification_report(y_test,clf5.predict(x_test)))"
   ]
  },
  {
   "cell_type": "code",
   "execution_count": 21,
   "id": "bce9ad97",
   "metadata": {},
   "outputs": [
    {
     "data": {
      "text/html": [
       "<div>\n",
       "<style scoped>\n",
       "    .dataframe tbody tr th:only-of-type {\n",
       "        vertical-align: middle;\n",
       "    }\n",
       "\n",
       "    .dataframe tbody tr th {\n",
       "        vertical-align: top;\n",
       "    }\n",
       "\n",
       "    .dataframe thead th {\n",
       "        text-align: right;\n",
       "    }\n",
       "</style>\n",
       "<table border=\"1\" class=\"dataframe\">\n",
       "  <thead>\n",
       "    <tr style=\"text-align: right;\">\n",
       "      <th></th>\n",
       "      <th>WBC</th>\n",
       "      <th>RBC</th>\n",
       "      <th>HGB</th>\n",
       "      <th>PLT</th>\n",
       "      <th>NEUT</th>\n",
       "      <th>LYMPH</th>\n",
       "      <th>MONO</th>\n",
       "      <th>EOS</th>\n",
       "      <th>BASO</th>\n",
       "    </tr>\n",
       "  </thead>\n",
       "  <tbody>\n",
       "    <tr>\n",
       "      <th>258</th>\n",
       "      <td>9.9</td>\n",
       "      <td>5.03</td>\n",
       "      <td>14.5</td>\n",
       "      <td>282</td>\n",
       "      <td>8.3</td>\n",
       "      <td>3.86</td>\n",
       "      <td>0.18</td>\n",
       "      <td>0.35</td>\n",
       "      <td>0.08</td>\n",
       "    </tr>\n",
       "  </tbody>\n",
       "</table>\n",
       "</div>"
      ],
      "text/plain": [
       "     WBC   RBC   HGB  PLT  NEUT  LYMPH  MONO   EOS  BASO\n",
       "258  9.9  5.03  14.5  282   8.3   3.86  0.18  0.35  0.08"
      ]
     },
     "execution_count": 21,
     "metadata": {},
     "output_type": "execute_result"
    }
   ],
   "source": [
    "t=x[258:259]\n",
    "t"
   ]
  },
  {
   "cell_type": "code",
   "execution_count": 22,
   "id": "c1096510",
   "metadata": {},
   "outputs": [
    {
     "data": {
      "text/plain": [
       "7"
      ]
     },
     "execution_count": 22,
     "metadata": {},
     "output_type": "execute_result"
    }
   ],
   "source": [
    "clf5.predict(t)[0]"
   ]
  },
  {
   "cell_type": "code",
   "execution_count": 23,
   "id": "7371669a",
   "metadata": {
    "scrolled": true
   },
   "outputs": [
    {
     "name": "stdout",
     "output_type": "stream",
     "text": [
      "0.43333333333333335\n"
     ]
    }
   ],
   "source": [
    "Acc5=clf5.score(x_test, y_test)\n",
    "print(Acc5)"
   ]
  },
  {
   "cell_type": "code",
   "execution_count": 24,
   "id": "811f6758",
   "metadata": {},
   "outputs": [
    {
     "name": "stdout",
     "output_type": "stream",
     "text": [
      "              precision    recall  f1-score   support\n",
      "\n",
      "           0       0.00      0.00      0.00         2\n",
      "           1       0.25      0.29      0.27        14\n",
      "           2       1.00      0.67      0.80         3\n",
      "           3       0.22      0.57      0.32         7\n",
      "           4       1.00      1.00      1.00         2\n",
      "           5       1.00      1.00      1.00         4\n",
      "           6       0.00      0.00      0.00         3\n",
      "           7       0.00      0.00      0.00         4\n",
      "           8       0.00      0.00      0.00         1\n",
      "           9       0.00      0.00      0.00         2\n",
      "          10       0.00      0.00      0.00         2\n",
      "          11       0.00      0.00      0.00        11\n",
      "          12       0.00      0.00      0.00         1\n",
      "          13       0.52      0.68      0.59        34\n",
      "\n",
      "    accuracy                           0.43        90\n",
      "   macro avg       0.29      0.30      0.28        90\n",
      "weighted avg       0.35      0.43      0.38        90\n",
      "\n"
     ]
    },
    {
     "name": "stderr",
     "output_type": "stream",
     "text": [
      "C:\\Users\\samee\\AppData\\Local\\Programs\\Python\\Python310\\lib\\site-packages\\sklearn\\metrics\\_classification.py:1334: UndefinedMetricWarning: Precision and F-score are ill-defined and being set to 0.0 in labels with no predicted samples. Use `zero_division` parameter to control this behavior.\n",
      "  _warn_prf(average, modifier, msg_start, len(result))\n",
      "C:\\Users\\samee\\AppData\\Local\\Programs\\Python\\Python310\\lib\\site-packages\\sklearn\\metrics\\_classification.py:1334: UndefinedMetricWarning: Precision and F-score are ill-defined and being set to 0.0 in labels with no predicted samples. Use `zero_division` parameter to control this behavior.\n",
      "  _warn_prf(average, modifier, msg_start, len(result))\n",
      "C:\\Users\\samee\\AppData\\Local\\Programs\\Python\\Python310\\lib\\site-packages\\sklearn\\metrics\\_classification.py:1334: UndefinedMetricWarning: Precision and F-score are ill-defined and being set to 0.0 in labels with no predicted samples. Use `zero_division` parameter to control this behavior.\n",
      "  _warn_prf(average, modifier, msg_start, len(result))\n"
     ]
    }
   ],
   "source": [
    "print(metrics.classification_report(y_test,clf5.predict(x_test)))"
   ]
  },
  {
   "cell_type": "code",
   "execution_count": 25,
   "id": "88990dbe",
   "metadata": {},
   "outputs": [
    {
     "name": "stdout",
     "output_type": "stream",
     "text": [
      "\n",
      " predict :  7\n",
      "\n",
      " Acc of ABT :  0.5333333333333333\n",
      "\n",
      " \n",
      "              precision    recall  f1-score   support\n",
      "\n",
      "           0       0.00      0.00      0.00         2\n",
      "           1       0.00      0.00      0.00        14\n",
      "           2       0.00      0.00      0.00         3\n",
      "           3       0.78      1.00      0.88         7\n",
      "           4       1.00      1.00      1.00         2\n",
      "           5       0.00      0.00      0.00         4\n",
      "           6       0.00      0.00      0.00         3\n",
      "           7       1.00      1.00      1.00         4\n",
      "           8       0.00      0.00      0.00         1\n",
      "           9       1.00      1.00      1.00         2\n",
      "          10       0.00      0.00      0.00         2\n",
      "          11       0.00      0.00      0.00        11\n",
      "          12       0.00      0.00      0.00         1\n",
      "          13       0.45      0.97      0.62        34\n",
      "\n",
      "    accuracy                           0.53        90\n",
      "   macro avg       0.30      0.36      0.32        90\n",
      "weighted avg       0.32      0.53      0.39        90\n",
      "\n"
     ]
    },
    {
     "name": "stderr",
     "output_type": "stream",
     "text": [
      "C:\\Users\\samee\\AppData\\Local\\Programs\\Python\\Python310\\lib\\site-packages\\sklearn\\metrics\\_classification.py:1334: UndefinedMetricWarning: Precision and F-score are ill-defined and being set to 0.0 in labels with no predicted samples. Use `zero_division` parameter to control this behavior.\n",
      "  _warn_prf(average, modifier, msg_start, len(result))\n",
      "C:\\Users\\samee\\AppData\\Local\\Programs\\Python\\Python310\\lib\\site-packages\\sklearn\\metrics\\_classification.py:1334: UndefinedMetricWarning: Precision and F-score are ill-defined and being set to 0.0 in labels with no predicted samples. Use `zero_division` parameter to control this behavior.\n",
      "  _warn_prf(average, modifier, msg_start, len(result))\n",
      "C:\\Users\\samee\\AppData\\Local\\Programs\\Python\\Python310\\lib\\site-packages\\sklearn\\metrics\\_classification.py:1334: UndefinedMetricWarning: Precision and F-score are ill-defined and being set to 0.0 in labels with no predicted samples. Use `zero_division` parameter to control this behavior.\n",
      "  _warn_prf(average, modifier, msg_start, len(result))\n"
     ]
    }
   ],
   "source": [
    "from sklearn.ensemble import AdaBoostClassifier\n",
    "clf6 = AdaBoostClassifier(n_estimators=100, random_state=0)\n",
    "clf6.fit(x_train, y_train)\n",
    "t=x[258:259]\n",
    "p=clf6.predict(t)[0]\n",
    "print(\"\\n predict : \",p)\n",
    "Acc6=clf6.score(x_test, y_test)\n",
    "print(\"\\n Acc of ABT : \",Acc6)\n",
    "print(\"\\n \" )\n",
    "print(metrics.classification_report(y_test,clf6.predict(x_test)))"
   ]
  },
  {
   "cell_type": "code",
   "execution_count": 26,
   "id": "d98714b9",
   "metadata": {},
   "outputs": [
    {
     "data": {
      "text/html": [
       "<div>\n",
       "<style scoped>\n",
       "    .dataframe tbody tr th:only-of-type {\n",
       "        vertical-align: middle;\n",
       "    }\n",
       "\n",
       "    .dataframe tbody tr th {\n",
       "        vertical-align: top;\n",
       "    }\n",
       "\n",
       "    .dataframe thead th {\n",
       "        text-align: right;\n",
       "    }\n",
       "</style>\n",
       "<table border=\"1\" class=\"dataframe\">\n",
       "  <thead>\n",
       "    <tr style=\"text-align: right;\">\n",
       "      <th></th>\n",
       "      <th>WBC</th>\n",
       "      <th>RBC</th>\n",
       "      <th>HGB</th>\n",
       "      <th>PLT</th>\n",
       "      <th>NEUT</th>\n",
       "      <th>LYMPH</th>\n",
       "      <th>MONO</th>\n",
       "      <th>EOS</th>\n",
       "      <th>BASO</th>\n",
       "    </tr>\n",
       "  </thead>\n",
       "  <tbody>\n",
       "    <tr>\n",
       "      <th>258</th>\n",
       "      <td>9.9</td>\n",
       "      <td>5.03</td>\n",
       "      <td>14.5</td>\n",
       "      <td>282</td>\n",
       "      <td>8.3</td>\n",
       "      <td>3.86</td>\n",
       "      <td>0.18</td>\n",
       "      <td>0.35</td>\n",
       "      <td>0.08</td>\n",
       "    </tr>\n",
       "  </tbody>\n",
       "</table>\n",
       "</div>"
      ],
      "text/plain": [
       "     WBC   RBC   HGB  PLT  NEUT  LYMPH  MONO   EOS  BASO\n",
       "258  9.9  5.03  14.5  282   8.3   3.86  0.18  0.35  0.08"
      ]
     },
     "execution_count": 26,
     "metadata": {},
     "output_type": "execute_result"
    }
   ],
   "source": [
    "t=x[258:259]\n",
    "t"
   ]
  },
  {
   "cell_type": "code",
   "execution_count": 27,
   "id": "032aee50",
   "metadata": {},
   "outputs": [
    {
     "data": {
      "text/plain": [
       "7"
      ]
     },
     "execution_count": 27,
     "metadata": {},
     "output_type": "execute_result"
    }
   ],
   "source": [
    "clf6.predict(t)[0]"
   ]
  },
  {
   "cell_type": "code",
   "execution_count": 28,
   "id": "55e6751c",
   "metadata": {},
   "outputs": [
    {
     "name": "stdout",
     "output_type": "stream",
     "text": [
      "0.5333333333333333\n"
     ]
    }
   ],
   "source": [
    "Acc6=clf6.score(x_test, y_test)\n",
    "print(Acc6)"
   ]
  },
  {
   "cell_type": "code",
   "execution_count": 29,
   "id": "e20473ce",
   "metadata": {},
   "outputs": [
    {
     "name": "stdout",
     "output_type": "stream",
     "text": [
      "              precision    recall  f1-score   support\n",
      "\n",
      "           0       0.00      0.00      0.00         2\n",
      "           1       0.00      0.00      0.00        14\n",
      "           2       0.00      0.00      0.00         3\n",
      "           3       0.78      1.00      0.88         7\n",
      "           4       1.00      1.00      1.00         2\n",
      "           5       0.00      0.00      0.00         4\n",
      "           6       0.00      0.00      0.00         3\n",
      "           7       1.00      1.00      1.00         4\n",
      "           8       0.00      0.00      0.00         1\n",
      "           9       1.00      1.00      1.00         2\n",
      "          10       0.00      0.00      0.00         2\n",
      "          11       0.00      0.00      0.00        11\n",
      "          12       0.00      0.00      0.00         1\n",
      "          13       0.45      0.97      0.62        34\n",
      "\n",
      "    accuracy                           0.53        90\n",
      "   macro avg       0.30      0.36      0.32        90\n",
      "weighted avg       0.32      0.53      0.39        90\n",
      "\n"
     ]
    },
    {
     "name": "stderr",
     "output_type": "stream",
     "text": [
      "C:\\Users\\samee\\AppData\\Local\\Programs\\Python\\Python310\\lib\\site-packages\\sklearn\\metrics\\_classification.py:1334: UndefinedMetricWarning: Precision and F-score are ill-defined and being set to 0.0 in labels with no predicted samples. Use `zero_division` parameter to control this behavior.\n",
      "  _warn_prf(average, modifier, msg_start, len(result))\n",
      "C:\\Users\\samee\\AppData\\Local\\Programs\\Python\\Python310\\lib\\site-packages\\sklearn\\metrics\\_classification.py:1334: UndefinedMetricWarning: Precision and F-score are ill-defined and being set to 0.0 in labels with no predicted samples. Use `zero_division` parameter to control this behavior.\n",
      "  _warn_prf(average, modifier, msg_start, len(result))\n",
      "C:\\Users\\samee\\AppData\\Local\\Programs\\Python\\Python310\\lib\\site-packages\\sklearn\\metrics\\_classification.py:1334: UndefinedMetricWarning: Precision and F-score are ill-defined and being set to 0.0 in labels with no predicted samples. Use `zero_division` parameter to control this behavior.\n",
      "  _warn_prf(average, modifier, msg_start, len(result))\n"
     ]
    }
   ],
   "source": [
    "print(metrics.classification_report(y_test,clf6.predict(x_test)))"
   ]
  },
  {
   "cell_type": "code",
   "execution_count": 30,
   "id": "6714ce21",
   "metadata": {},
   "outputs": [
    {
     "name": "stdout",
     "output_type": "stream",
     "text": [
      "\n",
      " predict :  7\n",
      "\n",
      " Acc of RF :  0.8555555555555555\n",
      "\n",
      " \n",
      "              precision    recall  f1-score   support\n",
      "\n",
      "           0       1.00      1.00      1.00         2\n",
      "           1       0.93      1.00      0.97        14\n",
      "           2       1.00      0.33      0.50         3\n",
      "           3       0.78      1.00      0.88         7\n",
      "           4       1.00      1.00      1.00         2\n",
      "           5       1.00      0.75      0.86         4\n",
      "           6       0.67      0.67      0.67         3\n",
      "           7       0.00      0.00      0.00         4\n",
      "           8       1.00      1.00      1.00         1\n",
      "           9       1.00      1.00      1.00         2\n",
      "          10       1.00      0.50      0.67         2\n",
      "          11       0.91      0.91      0.91        11\n",
      "          12       0.50      1.00      0.67         1\n",
      "          13       0.82      0.91      0.86        34\n",
      "\n",
      "    accuracy                           0.86        90\n",
      "   macro avg       0.83      0.79      0.78        90\n",
      "weighted avg       0.83      0.86      0.83        90\n",
      "\n"
     ]
    },
    {
     "name": "stderr",
     "output_type": "stream",
     "text": [
      "C:\\Users\\samee\\AppData\\Local\\Programs\\Python\\Python310\\lib\\site-packages\\sklearn\\metrics\\_classification.py:1334: UndefinedMetricWarning: Precision and F-score are ill-defined and being set to 0.0 in labels with no predicted samples. Use `zero_division` parameter to control this behavior.\n",
      "  _warn_prf(average, modifier, msg_start, len(result))\n",
      "C:\\Users\\samee\\AppData\\Local\\Programs\\Python\\Python310\\lib\\site-packages\\sklearn\\metrics\\_classification.py:1334: UndefinedMetricWarning: Precision and F-score are ill-defined and being set to 0.0 in labels with no predicted samples. Use `zero_division` parameter to control this behavior.\n",
      "  _warn_prf(average, modifier, msg_start, len(result))\n",
      "C:\\Users\\samee\\AppData\\Local\\Programs\\Python\\Python310\\lib\\site-packages\\sklearn\\metrics\\_classification.py:1334: UndefinedMetricWarning: Precision and F-score are ill-defined and being set to 0.0 in labels with no predicted samples. Use `zero_division` parameter to control this behavior.\n",
      "  _warn_prf(average, modifier, msg_start, len(result))\n"
     ]
    }
   ],
   "source": [
    "from sklearn.ensemble import RandomForestClassifier\n",
    "clf7 = RandomForestClassifier(n_estimators = 100)\n",
    "clf7.fit(x_train, y_train)\n",
    "t=x[258:259]\n",
    "p=clf7.predict(t)[0]\n",
    "print(\"\\n predict : \",p)\n",
    "Acc7=clf7.score(x_test, y_test)\n",
    "print(\"\\n Acc of RF : \",Acc7)\n",
    "print(\"\\n \")\n",
    "print(metrics.classification_report(y_test,clf7.predict(x_test)))"
   ]
  },
  {
   "cell_type": "code",
   "execution_count": 31,
   "id": "82646927",
   "metadata": {},
   "outputs": [
    {
     "data": {
      "text/html": [
       "<div>\n",
       "<style scoped>\n",
       "    .dataframe tbody tr th:only-of-type {\n",
       "        vertical-align: middle;\n",
       "    }\n",
       "\n",
       "    .dataframe tbody tr th {\n",
       "        vertical-align: top;\n",
       "    }\n",
       "\n",
       "    .dataframe thead th {\n",
       "        text-align: right;\n",
       "    }\n",
       "</style>\n",
       "<table border=\"1\" class=\"dataframe\">\n",
       "  <thead>\n",
       "    <tr style=\"text-align: right;\">\n",
       "      <th></th>\n",
       "      <th>WBC</th>\n",
       "      <th>RBC</th>\n",
       "      <th>HGB</th>\n",
       "      <th>PLT</th>\n",
       "      <th>NEUT</th>\n",
       "      <th>LYMPH</th>\n",
       "      <th>MONO</th>\n",
       "      <th>EOS</th>\n",
       "      <th>BASO</th>\n",
       "    </tr>\n",
       "  </thead>\n",
       "  <tbody>\n",
       "    <tr>\n",
       "      <th>258</th>\n",
       "      <td>9.9</td>\n",
       "      <td>5.03</td>\n",
       "      <td>14.5</td>\n",
       "      <td>282</td>\n",
       "      <td>8.3</td>\n",
       "      <td>3.86</td>\n",
       "      <td>0.18</td>\n",
       "      <td>0.35</td>\n",
       "      <td>0.08</td>\n",
       "    </tr>\n",
       "  </tbody>\n",
       "</table>\n",
       "</div>"
      ],
      "text/plain": [
       "     WBC   RBC   HGB  PLT  NEUT  LYMPH  MONO   EOS  BASO\n",
       "258  9.9  5.03  14.5  282   8.3   3.86  0.18  0.35  0.08"
      ]
     },
     "execution_count": 31,
     "metadata": {},
     "output_type": "execute_result"
    }
   ],
   "source": [
    "t=x[258:259]\n",
    "t"
   ]
  },
  {
   "cell_type": "code",
   "execution_count": 32,
   "id": "5b858365",
   "metadata": {},
   "outputs": [
    {
     "data": {
      "text/plain": [
       "7"
      ]
     },
     "execution_count": 32,
     "metadata": {},
     "output_type": "execute_result"
    }
   ],
   "source": [
    "clf7.predict(t)[0]"
   ]
  },
  {
   "cell_type": "code",
   "execution_count": 33,
   "id": "69a9b77d",
   "metadata": {
    "scrolled": true
   },
   "outputs": [
    {
     "name": "stdout",
     "output_type": "stream",
     "text": [
      "0.8555555555555555\n"
     ]
    }
   ],
   "source": [
    "Acc7=clf7.score(x_test, y_test)\n",
    "print(Acc7)"
   ]
  },
  {
   "cell_type": "code",
   "execution_count": 34,
   "id": "58f0906b",
   "metadata": {},
   "outputs": [
    {
     "name": "stdout",
     "output_type": "stream",
     "text": [
      "              precision    recall  f1-score   support\n",
      "\n",
      "           0       1.00      1.00      1.00         2\n",
      "           1       0.93      1.00      0.97        14\n",
      "           2       1.00      0.33      0.50         3\n",
      "           3       0.78      1.00      0.88         7\n",
      "           4       1.00      1.00      1.00         2\n",
      "           5       1.00      0.75      0.86         4\n",
      "           6       0.67      0.67      0.67         3\n",
      "           7       0.00      0.00      0.00         4\n",
      "           8       1.00      1.00      1.00         1\n",
      "           9       1.00      1.00      1.00         2\n",
      "          10       1.00      0.50      0.67         2\n",
      "          11       0.91      0.91      0.91        11\n",
      "          12       0.50      1.00      0.67         1\n",
      "          13       0.82      0.91      0.86        34\n",
      "\n",
      "    accuracy                           0.86        90\n",
      "   macro avg       0.83      0.79      0.78        90\n",
      "weighted avg       0.83      0.86      0.83        90\n",
      "\n"
     ]
    },
    {
     "name": "stderr",
     "output_type": "stream",
     "text": [
      "C:\\Users\\samee\\AppData\\Local\\Programs\\Python\\Python310\\lib\\site-packages\\sklearn\\metrics\\_classification.py:1334: UndefinedMetricWarning: Precision and F-score are ill-defined and being set to 0.0 in labels with no predicted samples. Use `zero_division` parameter to control this behavior.\n",
      "  _warn_prf(average, modifier, msg_start, len(result))\n",
      "C:\\Users\\samee\\AppData\\Local\\Programs\\Python\\Python310\\lib\\site-packages\\sklearn\\metrics\\_classification.py:1334: UndefinedMetricWarning: Precision and F-score are ill-defined and being set to 0.0 in labels with no predicted samples. Use `zero_division` parameter to control this behavior.\n",
      "  _warn_prf(average, modifier, msg_start, len(result))\n",
      "C:\\Users\\samee\\AppData\\Local\\Programs\\Python\\Python310\\lib\\site-packages\\sklearn\\metrics\\_classification.py:1334: UndefinedMetricWarning: Precision and F-score are ill-defined and being set to 0.0 in labels with no predicted samples. Use `zero_division` parameter to control this behavior.\n",
      "  _warn_prf(average, modifier, msg_start, len(result))\n"
     ]
    }
   ],
   "source": [
    "print(metrics.classification_report(y_test,clf7.predict(x_test)))"
   ]
  },
  {
   "cell_type": "code",
   "execution_count": 35,
   "id": "9c28250f",
   "metadata": {},
   "outputs": [
    {
     "name": "stdout",
     "output_type": "stream",
     "text": [
      "\n",
      " predict :  13\n",
      "\n",
      "\n",
      "\n",
      " Acc of GBC :  0.4666666666666667\n",
      "              precision    recall  f1-score   support\n",
      "\n",
      "           0       0.00      0.00      0.00         2\n",
      "           1       0.00      0.00      0.00        14\n",
      "           2       0.00      0.00      0.00         3\n",
      "           3       0.00      0.00      0.00         7\n",
      "           4       0.00      0.00      0.00         2\n",
      "           5       0.00      0.00      0.00         4\n",
      "           6       0.00      0.00      0.00         3\n",
      "           7       0.00      0.00      0.00         4\n",
      "           8       0.00      0.00      0.00         1\n",
      "           9       0.00      0.00      0.00         2\n",
      "          10       0.00      0.00      0.00         2\n",
      "          11       0.80      0.73      0.76        11\n",
      "          12       0.00      0.00      0.00         1\n",
      "          13       0.42      1.00      0.60        34\n",
      "\n",
      "    accuracy                           0.47        90\n",
      "   macro avg       0.09      0.12      0.10        90\n",
      "weighted avg       0.26      0.47      0.32        90\n",
      "\n"
     ]
    },
    {
     "name": "stderr",
     "output_type": "stream",
     "text": [
      "C:\\Users\\samee\\AppData\\Local\\Programs\\Python\\Python310\\lib\\site-packages\\sklearn\\metrics\\_classification.py:1334: UndefinedMetricWarning: Precision and F-score are ill-defined and being set to 0.0 in labels with no predicted samples. Use `zero_division` parameter to control this behavior.\n",
      "  _warn_prf(average, modifier, msg_start, len(result))\n",
      "C:\\Users\\samee\\AppData\\Local\\Programs\\Python\\Python310\\lib\\site-packages\\sklearn\\metrics\\_classification.py:1334: UndefinedMetricWarning: Precision and F-score are ill-defined and being set to 0.0 in labels with no predicted samples. Use `zero_division` parameter to control this behavior.\n",
      "  _warn_prf(average, modifier, msg_start, len(result))\n",
      "C:\\Users\\samee\\AppData\\Local\\Programs\\Python\\Python310\\lib\\site-packages\\sklearn\\metrics\\_classification.py:1334: UndefinedMetricWarning: Precision and F-score are ill-defined and being set to 0.0 in labels with no predicted samples. Use `zero_division` parameter to control this behavior.\n",
      "  _warn_prf(average, modifier, msg_start, len(result))\n"
     ]
    }
   ],
   "source": [
    "from sklearn.ensemble import GradientBoostingClassifier\n",
    "clf8 = GradientBoostingClassifier(n_estimators=100, learning_rate=1.0,max_depth=1, random_state=0)\n",
    "clf8.fit(x_train, y_train)\n",
    "t=x[258:259]\n",
    "p=clf8.predict(t)[0]\n",
    "print(\"\\n predict : \",p)\n",
    "print(\"\\n\")\n",
    "Acc8=clf8.score(x_test, y_test)\n",
    "print(\"\\n Acc of GBC : \",Acc8)\n",
    "print(metrics.classification_report(y_test,clf8.predict(x_test)))"
   ]
  },
  {
   "cell_type": "code",
   "execution_count": null,
   "id": "85f5d470",
   "metadata": {},
   "outputs": [],
   "source": []
  },
  {
   "cell_type": "code",
   "execution_count": null,
   "id": "a0c3d5e1",
   "metadata": {},
   "outputs": [],
   "source": []
  },
  {
   "cell_type": "code",
   "execution_count": null,
   "id": "d52ddc6f",
   "metadata": {},
   "outputs": [],
   "source": []
  },
  {
   "cell_type": "code",
   "execution_count": null,
   "id": "041e5a41",
   "metadata": {},
   "outputs": [],
   "source": []
  },
  {
   "cell_type": "code",
   "execution_count": 36,
   "id": "778a9ba9",
   "metadata": {},
   "outputs": [
    {
     "data": {
      "image/png": "[encoded data removed]",
      "text/plain": [
       "<Figure size 1000x500 with 1 Axes>"
      ]
     },
     "metadata": {},
     "output_type": "display_data"
    }
   ],
   "source": [
    "import matplotlib.pyplot as plt\n",
    "fig1 = plt.figure(figsize=(10,5))\n",
    "t = ['Logistic_Regression', 'SVM','Decision Tree','GNB','KNN','Ada Boosting','Random Forest','GB']\n",
    "exe_time = [Acc1,Acc2,Acc3,Acc4,Acc5,Acc6,Acc7,Acc8]\n",
    "plt.bar(t,exe_time, color ='green') \n",
    "plt.xlabel(\"Different Algorithms\")  \n",
    "plt.ylabel(\"Accuracy\") \n",
    "plt.title(\"analization Accuracy\")\n",
    "plt.show()"
   ]
  },
  {
   "cell_type": "code",
   "execution_count": null,
   "id": "248a6a8a",
   "metadata": {},
   "outputs": [],
   "source": []
  }
 ],
 "metadata": {
  "kernelspec": {
   "display_name": "Python 3 (ipykernel)",
   "language": "python",
   "name": "python3"
  },
  "language_info": {
   "codemirror_mode": {
    "name": "ipython",
    "version": 3
   },
   "file_extension": ".py",
   "mimetype": "text/x-python",
   "name": "python",
   "nbconvert_exporter": "python",
   "pygments_lexer": "ipython3",
   "version": "3.10.7"
  }
 },
 "nbformat": 4,
 "nbformat_minor": 5
}
